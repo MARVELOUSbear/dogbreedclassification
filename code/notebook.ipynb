{
 "cells": [
  {
   "cell_type": "code",
   "execution_count": 19,
   "metadata": {
    "_cell_guid": "1ba5da72-9d82-404d-aa25-ce9739a45775",
    "_uuid": "7fbb53109a3d08bedb1abac074f8186bdea991ac"
   },
   "outputs": [],
   "source": [
    "import numpy as np\n",
    "import pandas as pd\n",
    "from os.path import join\n",
    "from tqdm import tqdm\n",
    "from sklearn.metrics import log_loss, accuracy_score\n",
    "from keras.preprocessing import image\n",
    "from keras.applications import xception\n",
    "from keras.applications import inception_v3\n",
    "from sklearn.linear_model import LogisticRegression\n",
    "from sklearn.externals import joblib"
   ]
  },
  {
   "cell_type": "code",
   "execution_count": 20,
   "metadata": {
    "_cell_guid": "23fdc238-9f15-41d0-be8b-1913e6b1dd0f",
    "_uuid": "07c3bf3155c29a76d6f42af9b2135bbbaca87c92"
   },
   "outputs": [],
   "source": [
    "NUM_CLASSES = 16\n",
    "SEED = 1987\n",
    "        \n",
    "def read_img(img_id, train_or_test, size,data_dir):\n",
    "    img = image.load_img(join(data_dir, train_or_test, '%s.jpg' % img_id), target_size=size)\n",
    "    img = image.img_to_array(img)\n",
    "    return img"
   ]
  },
  {
   "cell_type": "code",
   "execution_count": 21,
   "metadata": {
    "_cell_guid": "0e89e3ca-7c9e-4f76-aaf8-8c5267e3a415",
    "_uuid": "7b47e6524b0fcf5ccb9a237cbdc8d444ff215dfb"
   },
   "outputs": [],
   "source": [
    "class DogClassification:\n",
    "    model=LogisticRegression(multi_class='multinomial', solver='lbfgs', random_state=SEED)\n",
    "    breed_list=[]\n",
    "    \n",
    "    def train_network(self):\n",
    "        INPUT_SIZE = 224\n",
    "        data_dir = '../input'\n",
    "        labels = pd.read_csv(join(data_dir, 'labels.csv'))\n",
    "        selected_breed_list = list(labels.groupby('breed').count().sort_values(by='id', ascending=False).head(NUM_CLASSES).index)\n",
    "        self.breed_list=selected_breed_list\n",
    "        labels = labels[labels['breed'].isin(selected_breed_list)]\n",
    "        labels['target'] = 1\n",
    "        labels['rank'] = labels.groupby('breed').rank()['id']\n",
    "        labels_pivot = labels.pivot('id', 'breed', 'target').reset_index().fillna(0)\n",
    "        np.random.seed(seed=SEED)\n",
    "        rnd = np.random.random(len(labels))\n",
    "        train_idx = rnd < 0.8\n",
    "        valid_idx = rnd >= 0.8\n",
    "        y_train = labels_pivot[selected_breed_list].values\n",
    "        ytr = y_train[train_idx]\n",
    "        yv = y_train[valid_idx]\n",
    "        INPUT_SIZE = 299\n",
    "        POOLING = 'avg'\n",
    "        x_train = np.zeros((len(labels), INPUT_SIZE, INPUT_SIZE, 3), dtype='float32')\n",
    "        for i, img_id in tqdm(enumerate(labels['id'])):\n",
    "            img = read_img(img_id, 'train', (INPUT_SIZE, INPUT_SIZE),data_dir)\n",
    "            x = xception.preprocess_input(np.expand_dims(img.copy(), axis=0))\n",
    "            x_train[i] = x\n",
    "        Xtr = x_train[train_idx]\n",
    "        Xv = x_train[valid_idx]\n",
    "        xception_bottleneck = xception.Xception(weights='imagenet', include_top=False, pooling=POOLING)\n",
    "        train_x_bf = xception_bottleneck.predict(Xtr, batch_size=32, verbose=1)\n",
    "        valid_x_bf = xception_bottleneck.predict(Xv, batch_size=32, verbose=1)\n",
    "        Xtr = x_train[train_idx]\n",
    "        Xv = x_train[valid_idx]\n",
    "        inception_bottleneck = inception_v3.InceptionV3(weights='imagenet', include_top=False, pooling=POOLING)\n",
    "        train_i_bf = inception_bottleneck.predict(Xtr, batch_size=32, verbose=1)\n",
    "        valid_i_bf = inception_bottleneck.predict(Xv, batch_size=32, verbose=1)\n",
    "        X = np.hstack([train_x_bf, train_i_bf])\n",
    "        V = np.hstack([valid_x_bf, valid_i_bf])\n",
    "        logreg = LogisticRegression(multi_class='multinomial', solver='lbfgs', random_state=SEED)\n",
    "        logreg.fit(X, (ytr * range(NUM_CLASSES)).sum(axis=1))\n",
    "        self.model=logreg\n",
    "        valid_probs = logreg.predict_proba(V)\n",
    "        valid_preds = logreg.predict(V)\n",
    "        logloss=log_loss(yv, valid_probs)\n",
    "        accuracy=accuracy_score((yv * range(NUM_CLASSES)).sum(axis=1), valid_preds)\n",
    "        joblib.dump(self.model,'./Lr.model')\n",
    "        return logloss,accuracy\n",
    "\n",
    "    def predictNewPic(self,img_dir):\n",
    "        INPUT_SIZE = 299\n",
    "        POOLING = 'avg'\n",
    "        x_train = np.zeros((1, INPUT_SIZE, INPUT_SIZE, 3), dtype='float32')\n",
    "        img = image.load_img(img_dir, target_size=(INPUT_SIZE, INPUT_SIZE))\n",
    "        img = image.img_to_array(img)\n",
    "        x_train = xception.preprocess_input(np.expand_dims(img.copy(), axis=0))\n",
    "        Xv = x_train\n",
    "        xception_bottleneck = xception.Xception(weights='imagenet', include_top=False, pooling=POOLING)\n",
    "        valid_x_bf = xception_bottleneck.predict(Xv, batch_size=32, verbose=1)\n",
    "        inception_bottleneck = inception_v3.InceptionV3(weights='imagenet', include_top=False, pooling=POOLING)\n",
    "        valid_i_bf = inception_bottleneck.predict(Xv, batch_size=32, verbose=1)\n",
    "        V = np.hstack([valid_x_bf, valid_i_bf])\n",
    "        logreg=joblib.load('./Lr.model')\n",
    "        valid_preds = logreg.predict(V)\n",
    "        class_name=self.breed_list[int(valid_preds[0])]\n",
    "        return class_name"
   ]
  },
  {
   "cell_type": "code",
   "execution_count": 22,
   "metadata": {},
   "outputs": [],
   "source": [
    "dm=DogClassification()"
   ]
  },
  {
   "cell_type": "code",
   "execution_count": null,
   "metadata": {},
   "outputs": [
    {
     "name": "stderr",
     "output_type": "stream",
     "text": [
      "1777it [00:27, 63.66it/s]\n"
     ]
    },
    {
     "name": "stdout",
     "output_type": "stream",
     "text": [
      "1409/1409 [==============================] - ETA: 1987 - ETA: 1860 - ETA: 1769 - ETA: 1702 - ETA: 1656 - ETA: 1608 - ETA: 1559 - ETA: 1516 - ETA: 1468 - ETA: 1420 - ETA: 1374 - ETA: 1328 - ETA: 1284 - ETA: 1241 - ETA: 1200 - ETA: 1157 - ETA: 1093 - ETA: 1037 - ETA: 1001 - ETA: 964 - ETA: 92 - ETA: 88 - ETA: 84 - ETA: 80 - ETA: 76 - ETA: 72 - ETA: 68 - ETA: 64 - ETA: 60 - ETA: 56 - ETA: 52 - ETA: 48 - ETA: 44 - ETA: 40 - ETA: 36 - ETA: 32 - ETA: 28 - ETA: 24 - ETA: 20 - ETA: 16 - ETA: 12 - ETA: 81s - ETA: 41 - ETA: 1 - 1771s  \n",
      "288/368 [======================>.......] - ETA: 41 - ETA: 37 - ETA: 31 - ETA: 24 - ETA: 20 - ETA: 16 - ETA: 13 - ETA: 99s - ETA: 69s"
     ]
    }
   ],
   "source": [
    "result=dm.train_network()\n",
    "print(\"loss: \",result[0],\" accuracy: \",result[1])"
   ]
  },
  {
   "cell_type": "code",
   "execution_count": null,
   "metadata": {},
   "outputs": [],
   "source": [
    "print(dm.predictNewPic(\"../input/test/00a3edd22dc7859c487a64777fc8d093.jpg\"))"
   ]
  },
  {
   "cell_type": "code",
   "execution_count": null,
   "metadata": {},
   "outputs": [],
   "source": []
  }
 ],
 "metadata": {
  "kernelspec": {
   "display_name": "Python 3",
   "language": "python",
   "name": "python3"
  },
  "language_info": {
   "codemirror_mode": {
    "name": "ipython",
    "version": 3
   },
   "file_extension": ".py",
   "mimetype": "text/x-python",
   "name": "python",
   "nbconvert_exporter": "python",
   "pygments_lexer": "ipython3",
   "version": "3.6.2"
  }
 },
 "nbformat": 4,
 "nbformat_minor": 1
}
